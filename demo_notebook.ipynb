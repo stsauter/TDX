{
 "cells": [
  {
   "cell_type": "markdown",
   "metadata": {},
   "source": [
    "# TDX integration in river"
   ]
  },
  {
   "cell_type": "markdown",
   "metadata": {},
   "source": [
    "## Introduction\n",
    "Recently, modelling and understanding the change of probability distributions has received attention [5]. This follows the change mining paradigm [1], where the change itself is the subject of study. Recent publications include an approach for quantifying and visualising drift ex-post [2], and an approach for modelling and extrapolating a changing density distribution over time [3]. For the latter, an algorithm named Temporal Density Extrapolation (TDX) based on a dynamic basis approach has recently been proposed in [4].\n",
    "\n",
    "Modelling and extrapolating densities in a data stream has several use cases:\n",
    "First, it allows to visualise changes, as done in [2], serving among others the objective of transparency in data stream mining, and explaining changes.\n",
    "Second, it allows to extrapolate changes, as done in [4]. This allows to anticipate changes, thus might help in faster adaptation, or even anticipative adaptation, for example in situations where labels arrive with delay (verification latency, [6]).\n",
    "Finally, it allows to differentiate between expected changes and unexpected changes. In the former, the changes follow a pattern that the supervisor of a data stream mining approach is aware of, and therefore are of a lesser concern (e.g., addressable by a planned adaptation). The latter, on the contrary, indicates that an intervention might be necessary (e.g., sudden shift that requires resetting the data stream learner).\n",
    "\n",
    "We propose an extension of RIVER to accommodate research on this type of problem and approaches.\n",
    "An important requirement for such an extension is the capability to attach time stamps to instances.\n",
    "This allows to model trends as functions of time, rather than using instance indices as proxies. Thereby, it overcomes the limitation that instances have to be sampled uniformly over time (equidistant in time), which is unrealistic in some applications.\n",
    "If such time stamps can not be provided, the index of an instance can be used as a proxy (if the assumption above is justifiable).\n",
    "\n",
    "As a first approach using this extension, we also provide a re-implementation of TDX in Python for RIVER, as well as data generators that provide data streams with time-stamped instances (currently with single features, but easily extendable to multivariate features)."
   ]
  },
  {
   "cell_type": "markdown",
   "metadata": {},
   "source": [
    "## Coding example\n",
    "\n",
    "There are 4 different synthetical data sets available for testing purposes. In this example we will use the *weightdrift* stream. A *weightdrift* stream containing 25000 samples can be generated as follows:"
   ]
  },
  {
   "cell_type": "code",
   "execution_count": 1,
   "metadata": {},
   "outputs": [
    {
     "name": "stdout",
     "output_type": "stream",
     "text": [
      "Synthetic data generator\n",
      "\n",
      "    Name  WeightDriftStream \n",
      "    Task  Density estimation\n",
      " Samples  25,000            \n",
      "Features  2                 \n",
      "  Sparse  False             \n",
      "\n",
      "Configuration\n",
      "-------------\n",
      "   n_samples  25000               \n",
      "  n_segments  120                 \n",
      "dist_support  [0, 7]              \n",
      "        seed  RandomState(MT19937)\n"
     ]
    }
   ],
   "source": [
    "from src.data.weight_drift_stream import WeightDriftStream\n",
    "\n",
    "datastream = WeightDriftStream(n_samples=25000, n_segments=120, dist_support=[0, 7], seed=1)\n",
    "print(datastream)\n"
   ]
  },
  {
   "cell_type": "markdown",
   "metadata": {},
   "source": [
    "It is possible to \"loop\" over the data just in the same way as described in the river tutorials. Note that TDX data sets currently only consist of exactly two feature vectors (however, the number of features might be extended in future). There is one column containing the time stamp and another column representing the corresponding data value. The time stamp column is of type *float*. In this way the UNIX time format as well as instance numbering can be used to describe the different points in time. It is also important that this column is always named *timestamp* so that the TDX model is later able to differentiate between the two columns."
   ]
  },
  {
   "cell_type": "code",
   "execution_count": 2,
   "metadata": {},
   "outputs": [
    {
     "data": {
      "text/plain": [
       "{'timestamp': 0.9916666666666667, 'value': 6.771399055838961}"
      ]
     },
     "execution_count": 2,
     "metadata": {},
     "output_type": "execute_result"
    }
   ],
   "source": [
    "for x in datastream:\n",
    "    # Here is where learning takes place\n",
    "    pass\n",
    "\n",
    "x    # last data sample\n"
   ]
  },
  {
   "cell_type": "markdown",
   "metadata": {},
   "source": [
    "The TDX model can be learned incrementally. But as training of the model might be computational expensive, the TDX model itself is not updated in every iteration. Instead TDX will cache incoming training instances and the model will be updated when there are enough samples inside the internal cache. In this example the TDX model will be updated every 2500 instances."
   ]
  },
  {
   "cell_type": "code",
   "execution_count": 8,
   "metadata": {},
   "outputs": [
    {
     "name": "stdout",
     "output_type": "stream",
     "text": [
      "0.053680120122175344\n"
     ]
    }
   ],
   "source": [
    "from src.tdx.tdx import Tdx\n",
    "model = Tdx(m=14, bandwidth=0.6, r=5, lambda_reg=2, cache_size=2500, grace_period=2500)\n",
    "\n",
    "for x in datastream:\n",
    "    density = model.predict_one(x)\n",
    "    model.learn_one(x)\n",
    "\n",
    "# Predicted density at time t=0.991 and spatial location x=6.7713\n",
    "print(density)"
   ]
  },
  {
   "cell_type": "markdown",
   "metadata": {},
   "source": [
    "TDX also supports batch learning."
   ]
  },
  {
   "cell_type": "code",
   "execution_count": 23,
   "metadata": {},
   "outputs": [
    {
     "name": "stdout",
     "output_type": "stream",
     "text": [
      "range(0, 16500)\n",
      "[0.85333751 0.59133598 3.57946337 ... 1.2577535  0.81183772 0.87511851]\n",
      "[0.         0.         0.         ... 0.65833333 0.65833333 0.65833333]\n",
      "-----------------------------------------------------\n",
      "   timestamp     value\n",
      "0        0.0  0.853338\n",
      "1        0.0  0.591336\n",
      "2        0.0  3.579463\n",
      "3        0.0  1.362392\n",
      "4        0.0  1.735314\n"
     ]
    },
    {
     "data": {
      "text/plain": [
       "Tdx (\n",
       "  m=14\n",
       "  bandwidth=0.6\n",
       "  r=5\n",
       "  lambda_reg=2\n",
       "  n_start_points=1\n",
       "  cache_size=1000\n",
       "  grace_period=1000\n",
       "  seed=RandomState(MT19937)\n",
       "  verbose=False\n",
       ")"
      ]
     },
     "execution_count": 23,
     "metadata": {},
     "output_type": "execute_result"
    }
   ],
   "source": [
    "import math\n",
    "import pandas as pd\n",
    "from src.tdx.tdx import Tdx\n",
    "\n",
    "model = Tdx(m=14, bandwidth=0.6, r=5, lambda_reg=2)\n",
    "\n",
    "train_idx = range(math.ceil(0.66 * datastream.x.shape[0]))\n",
    "x_train = datastream.x[train_idx]\n",
    "t_train = datastream.t[train_idx]\n",
    "\n",
    "# Range from 0 to 16500.\n",
    "print(train_idx)\n",
    "\n",
    "# The first 16500 instances from data stream.\n",
    "print(x_train)\n",
    "\n",
    "# The 16500 time stamps related to the densities in x_train.\n",
    "print(t_train)\n",
    "\n",
    "print(\"-----------------------------------------------------\")\n",
    "\n",
    "# Data frame has 16500 rows and 2 columns\n",
    "df = pd.DataFrame({'timestamp': t_train, 'value': x_train})\n",
    "print(df.head())\n",
    "model.learn_many(df)"
   ]
  },
  {
   "cell_type": "markdown",
   "metadata": {},
   "source": [
    "The `predict_many` method can be used to predict the density for different spatial locations at different timepoints."
   ]
  },
  {
   "cell_type": "code",
   "execution_count": 3,
   "metadata": {},
   "outputs": [
    {
     "data": {
      "text/html": [
       "<div>\n",
       "<style scoped>\n",
       "    .dataframe tbody tr th:only-of-type {\n",
       "        vertical-align: middle;\n",
       "    }\n",
       "\n",
       "    .dataframe tbody tr th {\n",
       "        vertical-align: top;\n",
       "    }\n",
       "\n",
       "    .dataframe thead th {\n",
       "        text-align: right;\n",
       "    }\n",
       "</style>\n",
       "<table border=\"1\" class=\"dataframe\">\n",
       "  <thead>\n",
       "    <tr style=\"text-align: right;\">\n",
       "      <th></th>\n",
       "      <th>timestamp</th>\n",
       "      <th>spatial_locations</th>\n",
       "    </tr>\n",
       "  </thead>\n",
       "  <tbody>\n",
       "    <tr>\n",
       "      <th>0</th>\n",
       "      <td>0.7</td>\n",
       "      <td>0.435472</td>\n",
       "    </tr>\n",
       "    <tr>\n",
       "      <th>1</th>\n",
       "      <td>0.8</td>\n",
       "      <td>0.769189</td>\n",
       "    </tr>\n",
       "    <tr>\n",
       "      <th>2</th>\n",
       "      <td>NaN</td>\n",
       "      <td>1.102906</td>\n",
       "    </tr>\n",
       "    <tr>\n",
       "      <th>3</th>\n",
       "      <td>NaN</td>\n",
       "      <td>1.436623</td>\n",
       "    </tr>\n",
       "    <tr>\n",
       "      <th>4</th>\n",
       "      <td>NaN</td>\n",
       "      <td>1.770340</td>\n",
       "    </tr>\n",
       "  </tbody>\n",
       "</table>\n",
       "</div>"
      ],
      "text/plain": [
       "   timestamp  spatial_locations\n",
       "0        0.7           0.435472\n",
       "1        0.8           0.769189\n",
       "2        NaN           1.102906\n",
       "3        NaN           1.436623\n",
       "4        NaN           1.770340"
      ]
     },
     "execution_count": 3,
     "metadata": {},
     "output_type": "execute_result"
    }
   ],
   "source": [
    "import numpy as np\n",
    "import pandas as pd\n",
    "\n",
    "t_test = [0.7, 0.8]\n",
    "x_grid = np.linspace(np.quantile(datastream.x, 0.01), np.quantile(datastream.x, 0.99), 20)\n",
    "\n",
    "df = pd.concat((pd.DataFrame({'timestamp': t_test}), pd.DataFrame({'spatial_locations': x_grid})), axis=1)\n",
    "df.head()\n"
   ]
  },
  {
   "cell_type": "markdown",
   "metadata": {},
   "source": [
    "This dataframe can be passed as an argument to the `predict_many` method. The first column tells TDX at which time points the predictions should be made. The second column contains the spatial locations that should be used for the density predictions."
   ]
  },
  {
   "cell_type": "markdown",
   "metadata": {},
   "source": [
    "The `predict_many` then returns a dataframe as a result. Here in this example the first row contains the predicted densities for t=0.7 and in the second row we find the predictions for t=0.8. The columns represent the predicted density at the different spatial locations."
   ]
  },
  {
   "cell_type": "code",
   "execution_count": 4,
   "metadata": {},
   "outputs": [
    {
     "data": {
      "text/html": [
       "<div>\n",
       "<style scoped>\n",
       "    .dataframe tbody tr th:only-of-type {\n",
       "        vertical-align: middle;\n",
       "    }\n",
       "\n",
       "    .dataframe tbody tr th {\n",
       "        vertical-align: top;\n",
       "    }\n",
       "\n",
       "    .dataframe thead th {\n",
       "        text-align: right;\n",
       "    }\n",
       "</style>\n",
       "<table border=\"1\" class=\"dataframe\">\n",
       "  <thead>\n",
       "    <tr style=\"text-align: right;\">\n",
       "      <th></th>\n",
       "      <th>0</th>\n",
       "      <th>1</th>\n",
       "      <th>2</th>\n",
       "      <th>3</th>\n",
       "      <th>4</th>\n",
       "      <th>5</th>\n",
       "      <th>6</th>\n",
       "      <th>7</th>\n",
       "      <th>8</th>\n",
       "      <th>9</th>\n",
       "      <th>10</th>\n",
       "      <th>11</th>\n",
       "      <th>12</th>\n",
       "      <th>13</th>\n",
       "      <th>14</th>\n",
       "      <th>15</th>\n",
       "      <th>16</th>\n",
       "      <th>17</th>\n",
       "      <th>18</th>\n",
       "      <th>19</th>\n",
       "    </tr>\n",
       "  </thead>\n",
       "  <tbody>\n",
       "    <tr>\n",
       "      <th>0</th>\n",
       "      <td>0.062784</td>\n",
       "      <td>0.135753</td>\n",
       "      <td>0.215735</td>\n",
       "      <td>0.251910</td>\n",
       "      <td>0.216515</td>\n",
       "      <td>0.13917</td>\n",
       "      <td>0.075798</td>\n",
       "      <td>0.060775</td>\n",
       "      <td>0.095502</td>\n",
       "      <td>0.154634</td>\n",
       "      <td>0.195636</td>\n",
       "      <td>0.189996</td>\n",
       "      <td>0.154473</td>\n",
       "      <td>0.134751</td>\n",
       "      <td>0.155367</td>\n",
       "      <td>0.193761</td>\n",
       "      <td>0.204169</td>\n",
       "      <td>0.165652</td>\n",
       "      <td>0.100791</td>\n",
       "      <td>0.045594</td>\n",
       "    </tr>\n",
       "    <tr>\n",
       "      <th>1</th>\n",
       "      <td>0.072916</td>\n",
       "      <td>0.157720</td>\n",
       "      <td>0.250677</td>\n",
       "      <td>0.292679</td>\n",
       "      <td>0.251329</td>\n",
       "      <td>0.16047</td>\n",
       "      <td>0.083181</td>\n",
       "      <td>0.055642</td>\n",
       "      <td>0.076617</td>\n",
       "      <td>0.121280</td>\n",
       "      <td>0.153813</td>\n",
       "      <td>0.151594</td>\n",
       "      <td>0.128639</td>\n",
       "      <td>0.122248</td>\n",
       "      <td>0.151528</td>\n",
       "      <td>0.193873</td>\n",
       "      <td>0.205494</td>\n",
       "      <td>0.166930</td>\n",
       "      <td>0.101588</td>\n",
       "      <td>0.045949</td>\n",
       "    </tr>\n",
       "  </tbody>\n",
       "</table>\n",
       "</div>"
      ],
      "text/plain": [
       "         0         1         2         3         4        5         6   \\\n",
       "0  0.062784  0.135753  0.215735  0.251910  0.216515  0.13917  0.075798   \n",
       "1  0.072916  0.157720  0.250677  0.292679  0.251329  0.16047  0.083181   \n",
       "\n",
       "         7         8         9         10        11        12        13  \\\n",
       "0  0.060775  0.095502  0.154634  0.195636  0.189996  0.154473  0.134751   \n",
       "1  0.055642  0.076617  0.121280  0.153813  0.151594  0.128639  0.122248   \n",
       "\n",
       "         14        15        16        17        18        19  \n",
       "0  0.155367  0.193761  0.204169  0.165652  0.100791  0.045594  \n",
       "1  0.151528  0.193873  0.205494  0.166930  0.101588  0.045949  "
      ]
     },
     "execution_count": 4,
     "metadata": {},
     "output_type": "execute_result"
    }
   ],
   "source": [
    "pred_dens = model.predict_many(df)\n",
    "pred_dens.head()"
   ]
  },
  {
   "cell_type": "markdown",
   "metadata": {},
   "source": [
    "The predicted densities can now be compared with the true densities of the *weightdrift* stream."
   ]
  },
  {
   "cell_type": "code",
   "execution_count": 7,
   "metadata": {},
   "outputs": [
    {
     "name": "stdout",
     "output_type": "stream",
     "text": [
      "[[0.06036143 0.13974388 0.21982973 0.24035174 0.18809535 0.1104857\n",
      "  0.05851012 0.054384   0.09779147 0.16325975 0.2018188  0.18720966\n",
      "  0.1542118  0.15417067 0.18839585 0.2153344  0.20483034 0.16204299\n",
      "  0.10951041 0.06474608]]\n"
     ]
    },
    {
     "data": {
      "text/plain": [
       "<matplotlib.legend.Legend at 0x7f6cd29ce7c0>"
      ]
     },
     "execution_count": 7,
     "metadata": {},
     "output_type": "execute_result"
    },
    {
     "data": {
      "image/png": "[encoded data removed]",
      "text/plain": [
       "<Figure size 432x288 with 1 Axes>"
      ]
     },
     "metadata": {
      "needs_background": "light"
     },
     "output_type": "display_data"
    }
   ],
   "source": [
    "import matplotlib.pyplot as plt\n",
    "\n",
    "true_dens = datastream.pdf(x_grid, np.array([0.7]))\n",
    "\n",
    "plt.plot(x_grid, true_dens[0, :], '-b', label=\"True density\")\n",
    "plt.plot(x_grid, pred_dens.iloc[0, :], '--r', label=\"Predicted density\")\n",
    "plt.title('Density at t=0.7')\n",
    "plt.xlabel('X')\n",
    "plt.ylabel('P(X)')\n",
    "plt.legend(loc=\"upper right\")"
   ]
  },
  {
   "cell_type": "markdown",
   "metadata": {},
   "source": [
    "## References\n",
    "[1] Böttcher, M., Höppner, F., Spiliopoulou, M.: On exploiting the power of time in data mining. ACM SIGKDD Explorations Newsletter 10(2), 3–11 (2008)  \n",
    "[2] Webb, G., Lee, L.K., Goethals, B., Petitjean, F.: Understanding concept drift. arXiv preprint 1704.00362v1 (2017)  \n",
    "[3] Krempl, G.: Temporal density extrapolation. In: Douzal-Chouakria, A., Vilar, J.A., Marteau, P.F., Maharaj, A., Alonso, A.M., Otranto, E., Nicolae, M.I. (eds.) Proc. of the 1st Int. Workshop on Advanced Analytics and Learning on Temporal Data (AALTD) co-located with ECML PKDD 2015. vol. 1425. CEUR Workshop Proceedings (2015)  \n",
    "[4] Krempl, G., Lang, D., Hofer, V.: Temporal density extrapolation using a dynamic basis approach. Data Mining and Knowledge Discovery 33(5), 1323–1356 (2019)  \n",
    "[5] Krempl, G., Hofer, V., Webb, G., & Hüllermeier, E. (2021). Beyond Adaptation: Understanding Distributional Changes (Dagstuhl Seminar 20372). In Dagstuhl Reports (Vol. 10, No. 4). Schloss Dagstuhl-Leibniz-Zentrum für Informatik.  \n",
    "[6] Krempl, G., Hofer, V.: Classification in presence of drift and latency. In: Spiliopoulou, M., Wang, H., Cook, D., Pei, J., Wang, W., Zaı̈ane, O., Wu, X. (eds.) Proceedings of the 11th IEEE International Conference on Data Mining Workshops\n",
    "(ICDMW 2011). IEEE (2011)"
   ]
  }
 ],
 "metadata": {
  "kernelspec": {
   "display_name": "Python 3",
   "language": "python",
   "name": "python3"
  },
  "language_info": {
   "codemirror_mode": {
    "name": "ipython",
    "version": 3
   },
   "file_extension": ".py",
   "mimetype": "text/x-python",
   "name": "python",
   "nbconvert_exporter": "python",
   "pygments_lexer": "ipython3",
   "version": "3.8.5"
  }
 },
 "nbformat": 4,
 "nbformat_minor": 5
}
